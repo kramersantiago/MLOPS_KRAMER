{
 "cells": [
  {
   "cell_type": "code",
   "execution_count": 2,
   "metadata": {},
   "outputs": [],
   "source": [
    "import pandas as pd\n",
    "from sklearn.metrics.pairwise import cosine_similarity\n",
    "from sklearn.feature_extraction.text import CountVectorizer"
   ]
  },
  {
   "cell_type": "code",
   "execution_count": 3,
   "metadata": {},
   "outputs": [],
   "source": [
    "df_steam_games = pd.read_parquet('../Data/df_steam_games.parquet')\n",
    "df_user_items = pd.read_parquet('../Data/df_user_items.parquet')"
   ]
  },
  {
   "cell_type": "code",
   "execution_count": 4,
   "metadata": {},
   "outputs": [],
   "source": [
    "df_steam_games = df_steam_games.rename(columns={'id': 'item_id'})"
   ]
  },
  {
   "cell_type": "code",
   "execution_count": 4,
   "metadata": {},
   "outputs": [
    {
     "data": {
      "text/plain": [
       "specs      0.021270\n",
       "item_id    0.000065\n",
       "title      0.062866\n",
       "dtype: float64"
      ]
     },
     "execution_count": 4,
     "metadata": {},
     "output_type": "execute_result"
    }
   ],
   "source": [
    "# Crear un DF con las columnas necesarias\n",
    "df_games_specs = df_steam_games.loc[:, [\"specs\", \"item_id\", \"title\"]]\n",
    "\n",
    "# Analisis de los datos nulos\n",
    "df_games_specs.isnull().mean()"
   ]
  },
  {
   "cell_type": "code",
   "execution_count": 5,
   "metadata": {},
   "outputs": [
    {
     "data": {
      "text/html": [
       "<div>\n",
       "<style scoped>\n",
       "    .dataframe tbody tr th:only-of-type {\n",
       "        vertical-align: middle;\n",
       "    }\n",
       "\n",
       "    .dataframe tbody tr th {\n",
       "        vertical-align: top;\n",
       "    }\n",
       "\n",
       "    .dataframe thead th {\n",
       "        text-align: right;\n",
       "    }\n",
       "</style>\n",
       "<table border=\"1\" class=\"dataframe\">\n",
       "  <thead>\n",
       "    <tr style=\"text-align: right;\">\n",
       "      <th></th>\n",
       "      <th>specs</th>\n",
       "      <th>item_id</th>\n",
       "      <th>title</th>\n",
       "    </tr>\n",
       "  </thead>\n",
       "  <tbody>\n",
       "    <tr>\n",
       "      <th>0</th>\n",
       "      <td>[Single-player]</td>\n",
       "      <td>761140</td>\n",
       "      <td>Lost Summoner Kitty</td>\n",
       "    </tr>\n",
       "    <tr>\n",
       "      <th>1</th>\n",
       "      <td>[Single-player, Multi-player, Online Multi-Pla...</td>\n",
       "      <td>643980</td>\n",
       "      <td>Ironbound</td>\n",
       "    </tr>\n",
       "    <tr>\n",
       "      <th>2</th>\n",
       "      <td>[Single-player, Multi-player, Online Multi-Pla...</td>\n",
       "      <td>670290</td>\n",
       "      <td>Real Pool 3D - Poolians</td>\n",
       "    </tr>\n",
       "    <tr>\n",
       "      <th>3</th>\n",
       "      <td>[Single-player]</td>\n",
       "      <td>767400</td>\n",
       "      <td>弹炸人2222</td>\n",
       "    </tr>\n",
       "    <tr>\n",
       "      <th>4</th>\n",
       "      <td>[Single-player, Full controller support, HTC V...</td>\n",
       "      <td>773570</td>\n",
       "      <td>None</td>\n",
       "    </tr>\n",
       "  </tbody>\n",
       "</table>\n",
       "</div>"
      ],
      "text/plain": [
       "                                               specs item_id  \\\n",
       "0                                    [Single-player]  761140   \n",
       "1  [Single-player, Multi-player, Online Multi-Pla...  643980   \n",
       "2  [Single-player, Multi-player, Online Multi-Pla...  670290   \n",
       "3                                    [Single-player]  767400   \n",
       "4  [Single-player, Full controller support, HTC V...  773570   \n",
       "\n",
       "                     title  \n",
       "0      Lost Summoner Kitty  \n",
       "1                Ironbound  \n",
       "2  Real Pool 3D - Poolians  \n",
       "3                  弹炸人2222  \n",
       "4                     None  "
      ]
     },
     "execution_count": 5,
     "metadata": {},
     "output_type": "execute_result"
    }
   ],
   "source": [
    "df_games_specs.head()"
   ]
  },
  {
   "cell_type": "code",
   "execution_count": 13,
   "metadata": {},
   "outputs": [],
   "source": [
    "# Eliminar los datos nulos\n",
    "df_games_specs = df_games_specs.dropna()\n",
    "\n",
    "# Limpiar la columna \"specs\"\n",
    "df_games_specs['specs'] = df_games_specs['specs'].apply(lambda x: str(x).replace('[', '').replace(']', '').replace(\"'\", ''))"
   ]
  },
  {
   "cell_type": "code",
   "execution_count": 14,
   "metadata": {},
   "outputs": [],
   "source": [
    "# Crear una instancia de CountVectorizer\n",
    "cv = CountVectorizer()\n",
    "\n",
    "# Ajustar y transformar el texto en una matriz dispersa\n",
    "vector = cv.fit_transform(df_games_specs['specs']).toarray()"
   ]
  },
  {
   "cell_type": "code",
   "execution_count": 9,
   "metadata": {},
   "outputs": [],
   "source": [
    "# Calcular la similitud del coseno entre los valores de la columna \"specs\"\n",
    "similarity = cosine_similarity(vector)"
   ]
  },
  {
   "cell_type": "code",
   "execution_count": 16,
   "metadata": {},
   "outputs": [],
   "source": [
    "def recomendacion_juego(id_de_producto):\n",
    "    # Buscar el indice ingresado en el DF \"df_games_specs\"\n",
    "    item_id = df_games_specs[df_games_specs[\"item_id\"] == id_de_producto].index[0]\n",
    "    \n",
    "    # Similitud entre el juego de entrada y todos los demás juegos en el conjunto de datos\n",
    "    similar_scores = similarity[item_id]\n",
    "    \n",
    "    # Ordenar de manera descendente y seleccionar los cinco juegos más similares\n",
    "    similar_items = sorted(list(enumerate(similar_scores)), reverse=True, key=lambda x: x[1])[1:6]\n",
    "    \n",
    "    # Devolver la lista de títulos recomendados\n",
    "    recommended_titles = [df_games_specs.iloc[e[0]]['title'] for e in similar_items]\n",
    "    \n",
    "    return recommended_titles"
   ]
  }
 ],
 "metadata": {
  "kernelspec": {
   "display_name": "Python 3",
   "language": "python",
   "name": "python3"
  },
  "language_info": {
   "codemirror_mode": {
    "name": "ipython",
    "version": 3
   },
   "file_extension": ".py",
   "mimetype": "text/x-python",
   "name": "python",
   "nbconvert_exporter": "python",
   "pygments_lexer": "ipython3",
   "version": "3.11.4"
  }
 },
 "nbformat": 4,
 "nbformat_minor": 2
}
