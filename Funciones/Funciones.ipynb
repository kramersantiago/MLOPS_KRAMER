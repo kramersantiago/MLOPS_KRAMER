{
 "cells": [
  {
   "cell_type": "code",
   "execution_count": 1,
   "metadata": {},
   "outputs": [],
   "source": [
    "import pandas as pd\n",
    "import ast"
   ]
  },
  {
   "cell_type": "code",
   "execution_count": 2,
   "metadata": {},
   "outputs": [],
   "source": [
    "# Cargar las bases de datos\n",
    "df_user_items = pd.read_parquet('../Data/df_user_items.parquet')\n",
    "\n",
    "df_user_reviews = pd.read_parquet('../Data/df_user_reviews.parquet')\n",
    "\n",
    "df_steam_games = pd.read_parquet('../Data/df_steam_games.parquet')"
   ]
  },
  {
   "cell_type": "markdown",
   "metadata": {},
   "source": [
    "# Funcion developer\n",
    "\n",
    "Recibe como parametro \"developer\" y devuelve la cantidad de items y porcentaje de contenido free por año según empresa desarrolladora."
   ]
  },
  {
   "cell_type": "code",
   "execution_count": 15,
   "metadata": {},
   "outputs": [],
   "source": [
    "# Función para obtener el año\n",
    "def release_year(release_date):\n",
    "    try:\n",
    "        return pd.to_datetime(release_date).year\n",
    "    except (TypeError, ValueError):\n",
    "        return None\n",
    "\n",
    "\n",
    "df_steam_games = df_steam_games.rename(columns={'id': 'item_id'})\n",
    "\n",
    "# Aplicar la función a la columna \"release_date\" y crear una nueva columna \"release_year\"\n",
    "df_steam_games['release_year'] = df_steam_games['release_date'].apply(release_year).astype(pd.Int32Dtype(), errors='ignore')\n",
    "\n",
    "def developer(desarrollador):\n",
    "    # Filtrar el DataFrame para obtener solo las filas relacionadas con el developer\n",
    "    df_developer = df_steam_games[df_steam_games['developer'] == desarrollador]\n",
    "\n",
    "    # Calcula la cantidad de items por año\n",
    "    items_per_year = df_developer.groupby(df_developer['release_date'].dt.year)['item_id'].count()\n",
    "    items_per_year = items_per_year.astype(int)\n",
    "\n",
    "\n",
    "    # Calcula la cantidad de items gratis por año\n",
    "    free_items = df_developer[df_developer['price'] == 0].groupby(df_developer['release_date'].dt.year)['item_id'].count()\n",
    "\n",
    "    # Calcula el porcentaje de items gratis por año\n",
    "    free_content = (free_items.all() / items_per_year * 100).fillna(0).astype(int)\n",
    "    \n",
    "    # Formatea los años en el resultado\n",
    "    items_per_year = {year: count for year, count in items_per_year.items()}\n",
    "    free_content = {year: f\"{value}%\" for year, value in free_content.items()}\n",
    "    \n",
    "    result = {\n",
    "        'Cantidad por año': f\"{items_per_year}\",\n",
    "        'Porcentaje gratis por año': f\"{free_content}\"\n",
    "    }\n",
    "    \n",
    "    return result"
   ]
  },
  {
   "cell_type": "code",
   "execution_count": 16,
   "metadata": {},
   "outputs": [
    {
     "data": {
      "text/plain": [
       "{'Cantidad por año': '{1998: 1, 1999: 1, 2000: 2, 2001: 1, 2003: 1, 2004: 5, 2006: 2, 2007: 3, 2008: 1, 2009: 1, 2010: 2, 2011: 1, 2012: 1, 2016: 1, 2017: 2}',\n",
       " 'Porcentaje gratis por año': \"{1998: '100%', 1999: '100%', 2000: '50%', 2001: '100%', 2003: '100%', 2004: '20%', 2006: '50%', 2007: '33%', 2008: '100%', 2009: '100%', 2010: '50%', 2011: '100%', 2012: '100%', 2016: '100%', 2017: '50%'}\"}"
      ]
     },
     "execution_count": 16,
     "metadata": {},
     "output_type": "execute_result"
    }
   ],
   "source": [
    "developer('Valve')"
   ]
  },
  {
   "cell_type": "markdown",
   "metadata": {},
   "source": [
    "# Funcion userdata\n",
    "\n",
    "Recibe como parametro \"user_id\" y devuelve la cantidad de dinero gastado por el usuario, el porcentaje de recomendación en base a \"recommend\" y cantidad de items."
   ]
  },
  {
   "cell_type": "code",
   "execution_count": 33,
   "metadata": {},
   "outputs": [],
   "source": [
    "df_user_items['item_id'] = df_user_items['item_id'].astype(pd.Int32Dtype())\n",
    "df_user_reviews['item_id'] = df_user_reviews['item_id'].astype(pd.Int32Dtype())\n",
    "df_steam_games['item_id'] = df_steam_games['item_id'].dropna().astype(pd.Int32Dtype())\n",
    "\n",
    "def userdata(user_id):\n",
    "    user_id = str(user_id)\n",
    "    # Filtrar el DataFrame \"user_items\" para obtener solo las filas relacionadas con el usuario\n",
    "    user = df_user_items[df_user_items['user_id'] == user_id]\n",
    "\n",
    "    # Verificar si el usuario se encuentra en el DataFrame\n",
    "    if user.empty:\n",
    "        return pd.DataFrame()\n",
    "\n",
    "    # Unir \"user_items\" con \"steam_games\" para obtener la información de precios\n",
    "    df_items_merged = user.merge(df_steam_games, on='item_id', how='inner')\n",
    "\n",
    "    # Calcular la cantidad de dinero gastado por el usuario\n",
    "    spent_money = df_items_merged['price'].sum()\n",
    "    spent_money = f\"${spent_money:.2f} USD\"\n",
    "\n",
    "    # Unir \"user_items\" con \"user_reviews\" para obtener la información de recomendación\n",
    "    df_reviews_merged = pd.merge(user, df_user_reviews, on='item_id', how='inner')\n",
    "\n",
    "    # Calcular la cantidad de items y el porcentaje de recomendación en base a \"recommend\"\n",
    "    items = len(df_reviews_merged)\n",
    "    recommend_percentage = df_reviews_merged[df_reviews_merged['user_id_x'] == user_id]['recommend'].mean() * 100\n",
    "\n",
    "    # Crear un DataFrame con los resultados\n",
    "    resultados = {\n",
    "        'Usuario': user_id,\n",
    "        'Dinero gastado': spent_money,\n",
    "        '% de recomendacion': recommend_percentage.round(2),\n",
    "        'Cantidad de items': items,\n",
    "    }\n",
    "\n",
    "    return resultados"
   ]
  },
  {
   "cell_type": "code",
   "execution_count": 34,
   "metadata": {},
   "outputs": [
    {
     "data": {
      "text/plain": [
       "{'Usuario': '76561197970982479',\n",
       " 'Dinero gastado': '$9.99 USD',\n",
       " '% de recomendacion': 96.97,\n",
       " 'Cantidad de items': 33}"
      ]
     },
     "execution_count": 34,
     "metadata": {},
     "output_type": "execute_result"
    }
   ],
   "source": [
    "userdata(76561197970982479)"
   ]
  },
  {
   "cell_type": "markdown",
   "metadata": {},
   "source": [
    "# Funcion UserForGenre\n",
    "\n",
    "Recibe \"genero\" como parametro y devuelve el usuario que acumula mas horas jugadas para el género dado y una lista de la acumulación de horas jugadas por año de lanzamiento."
   ]
  },
  {
   "cell_type": "code",
   "execution_count": 7,
   "metadata": {},
   "outputs": [
    {
     "name": "stderr",
     "output_type": "stream",
     "text": [
      "C:\\Users\\Renato\\AppData\\Local\\Temp\\ipykernel_12052\\1020732778.py:12: SettingWithCopyWarning: \n",
      "A value is trying to be set on a copy of a slice from a DataFrame.\n",
      "Try using .loc[row_indexer,col_indexer] = value instead\n",
      "\n",
      "See the caveats in the documentation: https://pandas.pydata.org/pandas-docs/stable/user_guide/indexing.html#returning-a-view-versus-a-copy\n",
      "  df_genres['genres'] = df_genres['genres'].apply(parse_genres)\n"
     ]
    }
   ],
   "source": [
    "df_playtime = df_user_items[['user_id', 'item_id', 'playtime_forever']]\n",
    "\n",
    "# Crear un DF que contenga las columas \"item_id\", \"genres\" y \"release_year\" y convertir las cadenas de valores en  \"genres\" a strings\n",
    "df_genres = df_steam_games[['item_id', 'genres', 'release_year']]\n",
    "\n",
    "def parse_genres(x):\n",
    "    try:\n",
    "        return ast.literal_eval(x) if pd.notna(x) else None\n",
    "    except (SyntaxError, ValueError):\n",
    "        return None\n",
    "\n",
    "df_genres['genres'] = df_genres['genres'].apply(parse_genres)\n",
    "df_genres = df_genres.explode('genres')\n",
    "\n",
    "# Unir los DF\n",
    "df_genres_playtime = df_genres.merge(df_playtime, on='item_id', how='right')\n",
    "\n",
    "# Crear un DF que contenga las columnas \"item_id\", \"genres\" y \"release_year\" y convertir las cadenas de valores en  \"genres\" a strings\n",
    "df_genres = df_steam_games[['item_id', 'genres', 'release_year']]\n",
    "\n",
    "def safe_literal_eval(x):\n",
    "    try:\n",
    "        return ast.literal_eval(x)\n",
    "    except (SyntaxError, ValueError):\n",
    "        return None\n",
    "\n",
    "df_genres = df_genres.explode('genres')\n",
    "\n",
    "df_playtime = df_user_items[['user_id', 'item_id', 'playtime_forever']]\n",
    "\n",
    "# Unir los DF\n",
    "df_genres_playtime = df_genres.merge(df_playtime, on='item_id', how='right')\n",
    "\n",
    "def UserForGenre(genero):\n",
    "\n",
    "    # Eliminar filas donde el user_id sea un valor nulo\n",
    "    df = df_genres_playtime.dropna(subset=['user_id'])\n",
    "\n",
    "    # Filtrar los juegos por el genero dado\n",
    "    genre = df[df['genres'] == genero]\n",
    "\n",
    "    # Encontrar al usuario con mas horas jugadas en el genero dado\n",
    "    user_most_hours = genre.loc[genre['playtime_forever'].idxmax()]['user_id']\n",
    "    print(user_most_hours)\n",
    "    # Filtrar el DataFrame para obtener solo las filas relacionadas con el usuario que acumula más horas\n",
    "    df_user_most_hours = genre.groupby('release_year')['playtime_forever'].sum().reset_index()\n",
    "\n",
    "    # DF que acumula las horas jugadas por año de lanzamiento\n",
    "    playtime_years = df_user_most_hours[['release_year', 'playtime_forever']]\n",
    "\n",
    "    result = {\n",
    "        'Usuario con mas horas jugadas para el genero dado': user_most_hours,\n",
    "        'Horas jugadas': [{'Año': int(row['release_year']), 'Horas': int(row['playtime_forever'])} for _, row in playtime_years.iterrows()]\n",
    "    }\n",
    "    \n",
    "    return result"
   ]
  },
  {
   "cell_type": "code",
   "execution_count": 8,
   "metadata": {},
   "outputs": [
    {
     "name": "stdout",
     "output_type": "stream",
     "text": [
      "76561198066412851\n"
     ]
    },
    {
     "data": {
      "text/plain": [
       "{'Usuario con mas horas jugadas para el genero dado': '76561198066412851',\n",
       " 'Horas jugadas': [{'Año': 1983, 'Horas': 73},\n",
       "  {'Año': 1984, 'Horas': 12},\n",
       "  {'Año': 1988, 'Horas': 472},\n",
       "  {'Año': 1989, 'Horas': 32},\n",
       "  {'Año': 1990, 'Horas': 316},\n",
       "  {'Año': 1991, 'Horas': 0},\n",
       "  {'Año': 1992, 'Horas': 2},\n",
       "  {'Año': 1993, 'Horas': 96},\n",
       "  {'Año': 1994, 'Horas': 2305},\n",
       "  {'Año': 1995, 'Horas': 5042},\n",
       "  {'Año': 1996, 'Horas': 335},\n",
       "  {'Año': 1997, 'Horas': 7724},\n",
       "  {'Año': 1998, 'Horas': 35774},\n",
       "  {'Año': 1999, 'Horas': 51205},\n",
       "  {'Año': 2000, 'Horas': 364698},\n",
       "  {'Año': 2001, 'Horas': 19662},\n",
       "  {'Año': 2002, 'Horas': 12902},\n",
       "  {'Año': 2003, 'Horas': 274967},\n",
       "  {'Año': 2004, 'Horas': 1748160},\n",
       "  {'Año': 2005, 'Horas': 233599},\n",
       "  {'Año': 2006, 'Horas': 219166},\n",
       "  {'Año': 2007, 'Horas': 283628},\n",
       "  {'Año': 2008, 'Horas': 843072},\n",
       "  {'Año': 2009, 'Horas': 3807421},\n",
       "  {'Año': 2010, 'Horas': 4390968},\n",
       "  {'Año': 2011, 'Horas': 7147805},\n",
       "  {'Año': 2012, 'Horas': 23955436},\n",
       "  {'Año': 2013, 'Horas': 11392703},\n",
       "  {'Año': 2014, 'Horas': 3869424},\n",
       "  {'Año': 2015, 'Horas': 6713000},\n",
       "  {'Año': 2016, 'Horas': 2746901},\n",
       "  {'Año': 2017, 'Horas': 3590163}]}"
      ]
     },
     "execution_count": 8,
     "metadata": {},
     "output_type": "execute_result"
    }
   ],
   "source": [
    "UserForGenre('Action')"
   ]
  },
  {
   "cell_type": "markdown",
   "metadata": {},
   "source": [
    "# Funcion best_developer_year\n",
    "\n",
    "Recibe \"año\" como parametro y devuelve el top 3 de desarrolladores con juegos mas recomendados por usuarios para el año dado."
   ]
  },
  {
   "cell_type": "code",
   "execution_count": 9,
   "metadata": {},
   "outputs": [],
   "source": [
    "# Crear un DF que cuente la cantidad de reviews positivas hechas por los usuarios a la desarrolladora\n",
    "df_merged_reviews = pd.merge(df_user_reviews, df_steam_games, on='item_id', how='left')\n",
    "df_merged_reviews = df_merged_reviews.loc[(df_merged_reviews['recommend'] == False) & (df_merged_reviews['sentiment_analysis'] == 0), ['release_year', 'developer']]\n",
    "df_merged_reviews = df_merged_reviews.groupby(['release_year', 'developer']).size().reset_index(name='reviews')\n",
    "df_merged_reviews = df_merged_reviews.sort_values(by=['release_year', 'reviews'], ascending=[False, False])\n",
    "df_merged_reviews = df_merged_reviews.groupby('release_year').head(3)\n",
    "\n",
    "def best_developer_year(year):\n",
    "    # Filtrar el DF para obtener las filas relacionadas con el año dado\n",
    "    top_3 = df_merged_reviews[df_merged_reviews['release_year'] == year]\n",
    "\n",
    "    # Devolver los resultados de las 3 desarrolladoras con mas reviews positivas\n",
    "    result = [\n",
    "        {\"Puesto 1\": top_3.iloc[0]['developer']},\n",
    "        {\"Puesto 2\": top_3.iloc[1]['developer']},\n",
    "        {\"Puesto 3\": top_3.iloc[2]['developer']}\n",
    "        ]\n",
    "    \n",
    "    return result"
   ]
  },
  {
   "cell_type": "code",
   "execution_count": 10,
   "metadata": {},
   "outputs": [
    {
     "data": {
      "text/plain": [
       "[{'Puesto 1': 'Valve'},\n",
       " {'Puesto 2': 'Daybreak Game Company'},\n",
       " {'Puesto 3': 'Exe Games Inc.'}]"
      ]
     },
     "execution_count": 10,
     "metadata": {},
     "output_type": "execute_result"
    }
   ],
   "source": [
    "best_developer_year(2012)"
   ]
  },
  {
   "cell_type": "markdown",
   "metadata": {},
   "source": [
    "# Funcion developer_reviews_analysis\n",
    "\n",
    "Recibe a la desarrolladora como parametro y devuelve un diccionario con el nombre del desarrollador como llave y una lista con la cantidad total de registros de reseñas de usuarios que se encuentren categorizados con un análisis de sentimiento como valor positivo o negativo."
   ]
  },
  {
   "cell_type": "code",
   "execution_count": 11,
   "metadata": {},
   "outputs": [],
   "source": [
    "df_reviews = df_user_reviews [['sentiment_label', 'item_id']]\n",
    "\n",
    "df_developer = df_steam_games[['developer', 'item_id']]\n",
    "\n",
    "df_reviews_analysis = df_developer.merge(df_reviews, on= 'item_id', how= 'right')\n",
    "\n",
    "def developer_reviews_analysis(desarrolladora):\n",
    "    # Filtrar el DataFrame df_merged_reviews para las reseñas del desarrollador proporcionado.\n",
    "    developer_reviews = df_reviews_analysis[df_reviews_analysis['developer'] == desarrolladora]\n",
    "\n",
    "    # Utilizar la función groupby para agrupar por 'sentiment_analysis' y contar el número de registros.\n",
    "    sentiment_counts = developer_reviews.groupby('sentiment_label').size().reset_index(name='count')\n",
    "\n",
    "    # Crear un diccionario con el nombre del desarrollador como clave y una lista con la cantidad de reseñas positivas y negativas.\n",
    "    result = {\n",
    "        desarrolladora: [\n",
    "            f\"Negative = {sentiment_counts.loc[sentiment_counts['sentiment_label'] == 0, 'count'].values[0]}\",\n",
    "            f\"Positive = {sentiment_counts.loc[sentiment_counts['sentiment_label'] == 2, 'count'].values[0]}\"\n",
    "        ]\n",
    "    }\n",
    "\n",
    "    return result"
   ]
  },
  {
   "cell_type": "code",
   "execution_count": 12,
   "metadata": {},
   "outputs": [
    {
     "data": {
      "text/plain": [
       "{'Valve': ['Negative = 518', 'Positive = 2621']}"
      ]
     },
     "execution_count": 12,
     "metadata": {},
     "output_type": "execute_result"
    }
   ],
   "source": [
    "developer_reviews_analysis('Valve')"
   ]
  }
 ],
 "metadata": {
  "kernelspec": {
   "display_name": "Python 3",
   "language": "python",
   "name": "python3"
  },
  "language_info": {
   "codemirror_mode": {
    "name": "ipython",
    "version": 3
   },
   "file_extension": ".py",
   "mimetype": "text/x-python",
   "name": "python",
   "nbconvert_exporter": "python",
   "pygments_lexer": "ipython3",
   "version": "3.11.4"
  }
 },
 "nbformat": 4,
 "nbformat_minor": 2
}
